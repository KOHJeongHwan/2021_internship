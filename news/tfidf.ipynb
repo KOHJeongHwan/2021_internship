{
 "metadata": {
  "language_info": {
   "codemirror_mode": {
    "name": "ipython",
    "version": 3
   },
   "file_extension": ".py",
   "mimetype": "text/x-python",
   "name": "python",
   "nbconvert_exporter": "python",
   "pygments_lexer": "ipython3",
   "version": "3.7.10"
  },
  "orig_nbformat": 4,
  "kernelspec": {
   "name": "python3",
   "display_name": "Python 3.7.10 64-bit ('news': conda)"
  },
  "interpreter": {
   "hash": "72dd90e7b1ce7a48b28470bb78287cf3415c6e0697c2ed54321a33a92b38e591"
  }
 },
 "nbformat": 4,
 "nbformat_minor": 2,
 "cells": [
  {
   "source": [
    "# 모듈 사용 버전\n",
    "\n",
    "모듈 사용\n",
    "\n",
    "연합 뉴스 내에서는 비슷한 내용의 뉴스를 잘 찾는다!\n",
    "\n",
    "외부 내용이 추가 되었을 때에는 어떻게 해야 할까?"
   ],
   "cell_type": "markdown",
   "metadata": {}
  },
  {
   "cell_type": "code",
   "execution_count": null,
   "metadata": {},
   "outputs": [],
   "source": [
    "import pandas as pd\n",
    "import numpy as np\n",
    "from sklearn.feature_extraction.text import TfidfVectorizer"
   ]
  },
  {
   "cell_type": "code",
   "execution_count": null,
   "metadata": {},
   "outputs": [],
   "source": [
    "df = pd.read_csv('./pretreatment_data/yeonhap_pre.csv', names=['CNo', 'Subject', 'Contents'])\n",
    "df.info()"
   ]
  },
  {
   "cell_type": "code",
   "execution_count": null,
   "metadata": {},
   "outputs": [],
   "source": [
    "stop_words = ['이', '고', '에']\n",
    "\n",
    "tfidf = TfidfVectorizer(stop_words=stop_words)\n",
    "\n",
    "tfidf_matrix = tfidf.fit_transform(df['Contents'][:])\n",
    "print(tfidf_matrix.shape)"
   ]
  },
  {
   "cell_type": "code",
   "execution_count": null,
   "metadata": {},
   "outputs": [],
   "source": [
    "print(tfidf_matrix)"
   ]
  },
  {
   "cell_type": "code",
   "execution_count": null,
   "metadata": {
    "tags": []
   },
   "outputs": [],
   "source": [
    "tfidf.vocabulary_.keys()"
   ]
  },
  {
   "cell_type": "code",
   "execution_count": null,
   "metadata": {},
   "outputs": [],
   "source": [
    "cnt = 0\n",
    "for w, n in tfidf.vocabulary_.items():\n",
    "    print(w)\n",
    "    if cnt == 10:\n",
    "        break\n",
    "    cnt += 1"
   ]
  },
  {
   "source": [
    "tfidf.vocabulary_[\"고정환\"] = 65826"
   ],
   "cell_type": "code",
   "metadata": {},
   "execution_count": null,
   "outputs": []
  },
  {
   "cell_type": "code",
   "execution_count": null,
   "metadata": {},
   "outputs": [],
   "source": [
    "sorted(tfidf.vocabulary_.items())[-1]"
   ]
  },
  {
   "cell_type": "code",
   "execution_count": null,
   "metadata": {},
   "outputs": [],
   "source": [
    "(et_df[0])"
   ]
  },
  {
   "cell_type": "code",
   "execution_count": null,
   "metadata": {},
   "outputs": [],
   "source": [
    "from sklearn.metrics.pairwise import cosine_similarity\n",
    "cosine_matrix = cosine_similarity(tfidf_matrix[1105], tfidf_matrix)"
   ]
  },
  {
   "cell_type": "code",
   "execution_count": null,
   "metadata": {},
   "outputs": [],
   "source": [
    "# 소수 점 4자리까지 출력\n",
    "np.round(cosine_matrix, 4)"
   ]
  },
  {
   "cell_type": "code",
   "execution_count": null,
   "metadata": {},
   "outputs": [],
   "source": [
    "cosine_matrix[0][1105]"
   ]
  },
  {
   "cell_type": "code",
   "execution_count": null,
   "metadata": {},
   "outputs": [],
   "source": [
    "# news title과 id를 맵핑할 dictionary를 생성\n",
    "news2id = {}\n",
    "for i, c in enumerate(df['Subject']):\n",
    "    news2id[i] = c\n",
    "\n",
    "# id와 news title를 매핑할 dictionary를 생성\n",
    "id2news = {}\n",
    "for i, c in news2id.items():\n",
    "    id2news[c] = i"
   ]
  },
  {
   "cell_type": "code",
   "execution_count": null,
   "metadata": {},
   "outputs": [],
   "source": [
    "id2news"
   ]
  },
  {
   "cell_type": "code",
   "execution_count": null,
   "metadata": {},
   "outputs": [],
   "source": [
    "idx = id2news['첫 정규앨범 블랙핑크 \"할 수 있는 음악 다 보여주고 싶었죠\"']\n",
    "sim_scores = [(i, c) for i, c in enumerate(cosine_matrix[0][idx]) if i != idx]\n",
    "sim_scores = sorted(sim_scores, key = lambda x: x[1], reverse=True)"
   ]
  },
  {
   "cell_type": "code",
   "execution_count": null,
   "metadata": {},
   "outputs": [],
   "source": [
    "sim_scores[0:10]"
   ]
  },
  {
   "cell_type": "code",
   "execution_count": null,
   "metadata": {},
   "outputs": [],
   "source": [
    "sim_scores = [(news2id[i], score) for i, score in sim_scores[0:10]]\n",
    "sim_scores"
   ]
  }
 ]
}