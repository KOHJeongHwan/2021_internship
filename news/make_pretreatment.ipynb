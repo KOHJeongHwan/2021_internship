{
 "metadata": {
  "language_info": {
   "codemirror_mode": {
    "name": "ipython",
    "version": 3
   },
   "file_extension": ".py",
   "mimetype": "text/x-python",
   "name": "python",
   "nbconvert_exporter": "python",
   "pygments_lexer": "ipython3",
   "version": "3.7.10"
  },
  "orig_nbformat": 4,
  "kernelspec": {
   "name": "python3",
   "display_name": "Python 3.7.10 64-bit ('news': conda)"
  },
  "interpreter": {
   "hash": "72dd90e7b1ce7a48b28470bb78287cf3415c6e0697c2ed54321a33a92b38e591"
  }
 },
 "nbformat": 4,
 "nbformat_minor": 2,
 "cells": [
  {
   "source": [
    "# 전처리 파일\n",
    "\n",
    "MeCab으로 전처리를 진행하는 코드\n",
    "\n"
   ],
   "cell_type": "markdown",
   "metadata": {}
  },
  {
   "cell_type": "code",
   "execution_count": null,
   "metadata": {},
   "outputs": [],
   "source": [
    "import pandas as pd     # csv 파일 편집\n",
    "import MeCab            # 전처리\n",
    "import re               # 정규 표현식 (전처리)\n"
   ]
  },
  {
   "cell_type": "code",
   "execution_count": null,
   "metadata": {},
   "outputs": [],
   "source": [
    "csv_test = pd.read_csv('./SampleData/yeonhap.csv')\n",
    "csv_test.shape"
   ]
  },
  {
   "cell_type": "code",
   "execution_count": null,
   "metadata": {},
   "outputs": [],
   "source": [
    "# 데이터 확인 데이터 확인\n",
    "csv_test.head"
   ]
  },
  {
   "cell_type": "code",
   "execution_count": null,
   "metadata": {},
   "outputs": [],
   "source": [
    "#csv_test.columns"
   ]
  },
  {
   "cell_type": "code",
   "execution_count": null,
   "metadata": {},
   "outputs": [],
   "source": [
    "#csv_test[\"Contents\"]"
   ]
  },
  {
   "cell_type": "code",
   "execution_count": null,
   "metadata": {},
   "outputs": [],
   "source": [
    "# 원문 확인\n",
    "#csv_test[\"Contents\"][0]"
   ]
  },
  {
   "source": [
    "## 동작 부분\n",
    "\n",
    "- 한 줄 씩 CSV 파일로 저장하며 진행하려면 .to_csv(mode='a')를 해줘야 한다. append 모드를 사용하겠다는 뜻\n",
    "\n",
    "- 자꾸 새로운 column 인 index 가 생기는 문제\n",
    "    index=False 를 옵션으로 추가한다.\n",
    "\n",
    "- 한 줄 추가 할때 마다 column 들이 새로 만들어짐\n",
    "    - header=False 를 옵션으로 추가한다.\n",
    "        - 단, column 정보가 날라가므로 나중에 read_csv 에서 name 옵션을 추가하여 column를 붙인다."
   ],
   "cell_type": "markdown",
   "metadata": {}
  },
  {
   "cell_type": "code",
   "execution_count": null,
   "metadata": {
    "tags": []
   },
   "outputs": [],
   "source": [
    "csv_test = pd.read_csv('./SampleData/etoday.csv')\n",
    "cnt = 0\n",
    "m = MeCab.Tagger()\n",
    "\n",
    "for line in csv_test[\"Contents\"]:\n",
    "    remove_email = re.compile(r'\\(([^)]+\\)) | [^가-힣]+@yna\\.co\\.kr')     # 괄호 및 안의 내용 제거 | 이메일 주소 제거\n",
    "    remove_special_char = re.compile(r'[^가-힣^A-z^0-9^ ]') # 한글, 영어, 기본 문자를 제외한 문자들 제거\n",
    "    text = remove_email.sub(' ', line)\n",
    "    text = remove_special_char.sub(' ', text)\n",
    "    \n",
    "    tagged = m.parse(text)\n",
    "    s = tagged.split('\\n')\n",
    "\n",
    "    result = []\n",
    "    for words in s:\n",
    "        # MeCab 으로 형태소 분리되면 끝이 EOS 임.\n",
    "        if words == 'EOS':\n",
    "            break\n",
    "        word, tag = words.split(',')[0].split('\\t')\n",
    "        d_tag = tag.split('+')\n",
    "        if (d_tag[-1] != \"\"):\n",
    "            tag = d_tag[0]\n",
    "\n",
    "        if tag in [\"NNB\", \"NNBC\", \"VV\", \"VA\", \"VX\", \"VCP\", \"VCN\", \"VSV\", \"MAG\", \"MAJ\", \"JKS\", \"JKC\", \"JKG\", \n",
    "                    \"JKO\", \"JKB\", \"JKV\", \"JKQ\", \"JC\", \"JX\", \"EP\", \"EF\", \"EC\", \"ETN\", \"ETM\", \"XPN\", \"XSN\", \n",
    "                    \"XSV\", \"XSA\", \"SF\", \"SE\", \"SSO\", \"SSC\", \"SC\", \"SY\", \"SH\", \"SL\", \"SN\", \"UNA\", \"NA\"]:\n",
    "            pass\n",
    "        else:\n",
    "            result.append(word)\n",
    "    sss = ' '.join(result)\n",
    "    # 데이터 프레임으로 만들고,\n",
    "    df = pd.DataFrame({\n",
    "        'CNo' : csv_test['CNo'][cnt],\n",
    "        'Subject' : csv_test['Subject'][cnt],\n",
    "        'Contents' : [sss]\n",
    "    })\n",
    "    # 바로 저장\n",
    "    df.to_csv(\"./pretreatment_data/etoday_pre.csv\", encoding='utf-8',mode = 'a', index=False, header=False)\n",
    "    cnt += 1\n",
    "    # 얼마나 했는지 확인용\n",
    "    if cnt % 1000 == 0:\n",
    "        print(cnt, \" 완료\")"
   ]
  },
  {
   "cell_type": "code",
   "execution_count": null,
   "metadata": {},
   "outputs": [],
   "source": []
  }
 ]
}