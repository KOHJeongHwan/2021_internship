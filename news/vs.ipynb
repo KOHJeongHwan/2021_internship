{
 "metadata": {
  "language_info": {
   "codemirror_mode": {
    "name": "ipython",
    "version": 3
   },
   "file_extension": ".py",
   "mimetype": "text/x-python",
   "name": "python",
   "nbconvert_exporter": "python",
   "pygments_lexer": "ipython3",
   "version": "3.7.10"
  },
  "orig_nbformat": 4,
  "kernelspec": {
   "name": "python3",
   "display_name": "Python 3.7.10 64-bit ('news': conda)"
  },
  "interpreter": {
   "hash": "72dd90e7b1ce7a48b28470bb78287cf3415c6e0697c2ed54321a33a92b38e591"
  }
 },
 "nbformat": 4,
 "nbformat_minor": 2,
 "cells": [
  {
   "cell_type": "code",
   "execution_count": 17,
   "metadata": {},
   "outputs": [],
   "source": [
    "import pandas as pd\n",
    "import numpy as np"
   ]
  },
  {
   "cell_type": "code",
   "execution_count": 21,
   "metadata": {},
   "outputs": [],
   "source": [
    "original = pd.read_csv(\"./이투데이-연합뉴스-유사도-0.7_0.8.csv\", names = [\"etoday\", \"yeonhap\", \"similarity\"])\n",
    "df = pd.read_csv(\"./이투데이-연합뉴스-유사도_4_500-0.7_0.8.csv\", names = [\"etoday\", \"yeonhap\", \"similarity\"])"
   ]
  },
  {
   "cell_type": "code",
   "execution_count": 8,
   "metadata": {},
   "outputs": [
    {
     "output_type": "execute_result",
     "data": {
      "text/plain": [
       "<bound method DataFrame.info of                              etoday                           yeonhap  \\\n",
       "0     E_1946136_20201001_000031.txt  Y_409342650_20201001_000000_.txt   \n",
       "1     E_1946280_20201001_070053.txt  Y_409347851_20201001_070006_.txt   \n",
       "2     E_1946393_20201001_092346.txt  Y_409351447_20201001_090001_.txt   \n",
       "3     E_1946394_20201001_120040.txt  Y_409359230_20201001_120002_.txt   \n",
       "4     E_1946396_20201001_100522.txt  Y_409355025_20201001_101727_.txt   \n",
       "...                             ...                               ...   \n",
       "8911  E_1957119_20201031_153522.txt  Y_413432654_20201031_142742_.txt   \n",
       "8912  E_1957120_20201031_153504.txt  Y_413436629_20201031_155050_.txt   \n",
       "8913  E_1957120_20201031_153504.txt  Y_413167972_20201029_152429_.txt   \n",
       "8914  E_1957124_20201031_161151.txt  Y_413436042_20201031_153849_.txt   \n",
       "8915  E_1957126_20201031_200000.txt  Y_413419291_20201031_090000_.txt   \n",
       "\n",
       "      similarity  \n",
       "0         0.7127  \n",
       "1         0.7068  \n",
       "2         0.7854  \n",
       "3         0.7167  \n",
       "4         0.7024  \n",
       "...          ...  \n",
       "8911      0.7613  \n",
       "8912      0.7435  \n",
       "8913      0.7041  \n",
       "8914      0.7781  \n",
       "8915      0.7020  \n",
       "\n",
       "[8916 rows x 3 columns]>"
      ]
     },
     "metadata": {},
     "execution_count": 8
    }
   ],
   "source": [
    "original.info"
   ]
  },
  {
   "cell_type": "code",
   "execution_count": 22,
   "metadata": {
    "tags": []
   },
   "outputs": [
    {
     "output_type": "stream",
     "name": "stdout",
     "text": [
      "100 완료\n",
      "200 완료\n",
      "300 완료\n",
      "400 완료\n",
      "500 완료\n",
      "600 완료\n",
      "700 완료\n",
      "800 완료\n",
      "900 완료\n",
      "1000 완료\n",
      "1100 완료\n",
      "1200 완료\n"
     ]
    }
   ],
   "source": [
    "cnt = 0\n",
    "for line in range(len(df)):\n",
    "    flag = 0\n",
    "    for vs in range(len(original)):\n",
    "        if df[\"etoday\"][line] == original[\"etoday\"][vs]:\n",
    "            flag = 1\n",
    "            break\n",
    "    if flag == 0:\n",
    "        cnt += 1\n",
    "        if cnt % 100 == 0:\n",
    "            print(\"{} 완료\".format(cnt))\n",
    "        result = pd.DataFrame({\n",
    "            'etoday' : [df[\"etoday\"][line]],\n",
    "            'yeonhap' : [df[\"yeonhap\"][line]],\n",
    "            'similarity' : [df[\"similarity\"][line]]\n",
    "        })\n",
    "        # 바로 저장\n",
    "        result.to_csv(\"./vs_4_500.csv\", encoding='utf-8',mode = 'a', index=False, header=False)"
   ]
  },
  {
   "cell_type": "code",
   "execution_count": null,
   "metadata": {},
   "outputs": [],
   "source": []
  }
 ]
}